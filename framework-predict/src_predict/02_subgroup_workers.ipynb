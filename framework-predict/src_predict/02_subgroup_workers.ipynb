{
 "cells": [
  {
   "metadata": {},
   "cell_type": "code",
   "source": [
    "import pre_processing as prep\n",
    "\n",
    "# Get paths to all pre-processed worker files\n",
    "root_folder = '01_preprocessed_workers/minimized_warehouse_4/'\n",
    "save_folder = \"02_grouped_workers/minimized_warehouse_4/\"\n",
    "worker_paths = prep.find_files_in_folder(root_folder, \"worker*.feather\")"
   ],
   "id": "ea50f36310f77630",
   "outputs": [],
   "execution_count": null
  },
  {
   "metadata": {},
   "cell_type": "code",
   "source": [
    "\"\"\" Split the data into subgroups (e.g., CPU.feather, Memory.feather, ...) \"\"\"\n",
    "import pandas as pd\n",
    "import os\n",
    "from filters import categorize_columns\n",
    "from collections import Counter\n",
    "import numpy as np\n",
    "\n",
    "total_size_mb = 0\n",
    "category_col_counts = Counter()\n",
    "\n",
    "all_col_strings = {}\n",
    "col_occurrences = {}\n",
    "column_counts_per_category = {}  # A dictionary to collect column counts for each category across all files\n",
    "\n",
    "for p in worker_paths:\n",
    "    df = pd.read_feather(p)\n",
    "    categorized_cols = categorize_columns(df)\n",
    "    for category, cols in categorized_cols.items():\n",
    "        category_col_counts[category] += len(cols)  # Count the number of columns per category\n",
    "        for col in cols:\n",
    "            if category not in col_occurrences:\n",
    "                col_occurrences[category] = {}\n",
    "            col_occurrences[category][col] = col_occurrences[category].get(col, 0) + 1\n",
    "        all_col_strings[category] = all_col_strings.get(category, []) + [cols]\n",
    "        if category not in column_counts_per_category:\n",
    "            column_counts_per_category[category] = []  # Initialize the list for this category\n",
    "        column_counts_per_category[category].append(len(cols))  # Add the column count for this category\n",
    "\n",
    "        df2 = df[cols].copy()\n",
    "        df2[\"timestamp\"] = df[\"timestamp\"]  # Keep timestamp for now\n",
    "        if root_folder not in p:\n",
    "            raise ValueError(\"FIXME: Root folder not found in path - cant replace\")\n",
    "        output_path = p.replace(root_folder, f\"{save_folder}/{category}/\")\n",
    "        os.makedirs(os.path.dirname(output_path), exist_ok=True)\n",
    "        df2.to_feather(output_path)\n",
    "        size_mb = df2.memory_usage().sum() / (1024 * 1024)\n",
    "        total_size_mb += size_mb\n",
    "        print(\n",
    "            f\"Saved to {output_path} with {len(cols)} columns, size {df2.memory_usage().sum() / (1024 * 1024):.2f} MB\")\n",
    "\n",
    "# Compute and print distributions of the number of columns per category\n",
    "print(\"\\nColumn distributions per category (min, max, median):\")\n",
    "for category, column_counts in column_counts_per_category.items():\n",
    "    min_val = min(column_counts)\n",
    "    max_val = max(column_counts)\n",
    "    median_val = np.median(column_counts)\n",
    "    print(f\"{category}: min={min_val}, max={max_val}, median={median_val}\")\n",
    "\n",
    "print(\"\\n\\n>>> Total size: MB\", total_size_mb)"
   ],
   "id": "e0af2a06d8082d7a",
   "outputs": [],
   "execution_count": null
  },
  {
   "metadata": {},
   "cell_type": "code",
   "source": [
    "from pprint import pprint\n",
    "\n",
    "max_cols = len(worker_paths)\n",
    "tolerance = max_cols - 400\n",
    "x = 0\n",
    "for key, cols in col_occurrences.items():\n",
    "    print(key)\n",
    "    sorted_items = sorted(cols.items(), key=lambda item: item[1])  # Sort items by values\n",
    "    for item in sorted_items:\n",
    "        if item[1] >= tolerance:\n",
    "            print(item)\n",
    "            x += 1\n",
    "    print(\"\\n\")\n",
    "\n",
    "print(f\"Max is {len(worker_paths)}\")\n",
    "print(f\"Found {x} cols with maximum value\")"
   ],
   "id": "b06fc1b9af14d69a",
   "outputs": [],
   "execution_count": null
  }
 ],
 "metadata": {
  "kernelspec": {
   "display_name": "Python 3",
   "language": "python",
   "name": "python3"
  },
  "language_info": {
   "codemirror_mode": {
    "name": "ipython",
    "version": 2
   },
   "file_extension": ".py",
   "mimetype": "text/x-python",
   "name": "python",
   "nbconvert_exporter": "python",
   "pygments_lexer": "ipython2",
   "version": "2.7.6"
  }
 },
 "nbformat": 4,
 "nbformat_minor": 5
}
