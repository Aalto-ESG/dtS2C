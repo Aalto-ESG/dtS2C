{
 "cells": [
  {
   "metadata": {},
   "cell_type": "markdown",
   "source": "# Create dataset which uses HPA metrics as the prediction goal",
   "id": "7c2e7542eace19b4"
  },
  {
   "cell_type": "code",
   "id": "initial_id",
   "metadata": {
    "collapsed": true,
    "ExecuteTime": {
     "end_time": "2025-03-27T11:59:01.117426Z",
     "start_time": "2025-03-27T11:59:00.835894Z"
    }
   },
   "source": [
    "from typing import List\n",
    "import pandas as pd\n",
    "import glob\n",
    "import os\n",
    "\n",
    "# Path to the directory containing feather files\n",
    "hpa_dir = \"../../data/minimized_warehouse_7b/\"\n",
    "base_dir = \"../../src_predict/03_combined_data/minimized_warehouse_7b/\"\n",
    "output_base_dir = \"04_datasets/hpa_7b/\"\n",
    "timezone_difference = 2  # hours (hpa-files and prometheus files were using different timezone for the timestamp\n",
    "\n",
    "\n",
    "def read_hpa_files() -> List[pd.DataFrame]:\n",
    "    \"\"\"\n",
    "    Load the HPA data to dataframes\n",
    "    cols = ['timestamp', 'cpu-avg-worker', 'cpu-avg-master', 'replicas-worker',\n",
    "           'replicas-master']\n",
    "    \"\"\"\n",
    "    hpa_qos_files = glob.glob(os.path.join(hpa_dir, '**', 'hpa_qos.feather'), recursive=True)\n",
    "    dfs = []\n",
    "    for hpa_path in hpa_qos_files:\n",
    "        hpa_df = pd.read_feather(hpa_path)\n",
    "        hpa_df[\"timestamp\"] = pd.to_datetime(hpa_df[\"timestamp\"]) - pd.Timedelta(hours=timezone_difference)\n",
    "        dfs.append(hpa_df)\n",
    "    return dfs\n",
    "\n",
    "\n",
    "hpa_dfs = read_hpa_files()\n",
    "hpa_df_concat = pd.concat(hpa_dfs)\n",
    "\n",
    "\n",
    "def match_hpa(df: pd.DataFrame) -> pd.DataFrame:\n",
    "    \"\"\"\n",
    "    Get the HPA metrics with timestamps matched to the given df\n",
    "    \"\"\"\n",
    "    df['timestamp'] = pd.to_datetime(df['timestamp'], unit=\"s\")\n",
    "    hpa_cols = hpa_df_concat.columns\n",
    "    merged_df = pd.merge_asof(\n",
    "        df.sort_values(by=\"timestamp\"),\n",
    "        hpa_df_concat.sort_values(by=\"timestamp\"),\n",
    "        on=\"timestamp\",\n",
    "        direction=\"nearest\",\n",
    "        tolerance=pd.Timedelta('5s'),\n",
    "        suffixes=('_df1', '_df2')\n",
    "    )\n",
    "    return merged_df[hpa_cols]\n",
    "\n",
    "\n",
    "def create_dataset(input_dir, output_path):\n",
    "    # Initialize an empty list to store individual DataFrames with yolomodel\n",
    "    dataframes = []\n",
    "\n",
    "    # Read each feather file\n",
    "    for file in glob.glob(f\"{input_dir}/*.feather\"):\n",
    "        # Read the dataframe\n",
    "        df = pd.read_feather(file)\n",
    "\n",
    "        # Add number of workers as a new column\n",
    "        matched_hpa = match_hpa(df)\n",
    "        df['target'] = matched_hpa[\"replicas-worker\"]\n",
    "\n",
    "        # Remove timestamp column, assuming it's named 'timestamp' as a placeholder\n",
    "        df = df.drop(columns=['timestamp']) if 'timestamp' in df.columns else df\n",
    "\n",
    "        # Append to the list of DataFrames\n",
    "        dataframes.append(df)\n",
    "\n",
    "    # Determine common columns across all DataFrames\n",
    "    common_columns = list(set.intersection(*(set(df.columns) for df in dataframes)))\n",
    "\n",
    "    # Standardize each DataFrame to have only columns that are common across all DataFrames\n",
    "    dataframes = [df[common_columns] for df in dataframes]\n",
    "\n",
    "    # Combine all DataFrames into a single DataFrame\n",
    "    os.makedirs(os.path.dirname(output_path), exist_ok=True)\n",
    "    combined_df = pd.concat(dataframes, ignore_index=True)\n",
    "    combined_df.to_feather(output_path)\n",
    "    print(f\"Saved to {output_path}\")\n",
    "    return combined_df\n",
    "\n",
    "\n",
    "for folder in os.listdir(base_dir):\n",
    "    print(folder)\n",
    "    input_dir = os.path.join(base_dir, folder)\n",
    "    output_path = os.path.join(output_base_dir, f\"{folder}.feather\")\n",
    "    create_dataset(input_dir, output_path)"
   ],
   "outputs": [
    {
     "name": "stdout",
     "output_type": "stream",
     "text": [
      "CPU\n",
      "Saved to 04_datasets/hpa_7b/CPU.feather\n",
      "Kepler\n",
      "Saved to 04_datasets/hpa_7b/Kepler.feather\n",
      "Disk_io\n",
      "Saved to 04_datasets/hpa_7b/Disk_io.feather\n",
      "Memory\n",
      "Saved to 04_datasets/hpa_7b/Memory.feather\n",
      "Network\n",
      "Saved to 04_datasets/hpa_7b/Network.feather\n",
      "Other\n",
      "Saved to 04_datasets/hpa_7b/Other.feather\n"
     ]
    }
   ],
   "execution_count": 29
  },
  {
   "metadata": {
    "ExecuteTime": {
     "end_time": "2025-03-27T11:59:01.130483Z",
     "start_time": "2025-03-27T11:59:01.121501Z"
    }
   },
   "cell_type": "code",
   "source": [
    "df = pd.read_feather('../../src_predict/03_combined_data/minimized_warehouse_7c/CPU/1738881900_(1.1000).feather')\n",
    "df[\"timestamp\"] = pd.to_datetime(df['timestamp'], unit=\"s\")\n",
    "hpa_df = hpa_dfs[0]\n",
    "print(df[\"timestamp\"])\n",
    "print(hpa_df[\"timestamp\"])\n",
    "for hpa in hpa_dfs:\n",
    "    print(hpa[\"timestamp\"].min())"
   ],
   "id": "3161484a6f851e0",
   "outputs": [
    {
     "name": "stdout",
     "output_type": "stream",
     "text": [
      "0       2025-02-06 13:13:08\n",
      "1       2025-02-06 13:13:13\n",
      "2       2025-02-06 13:13:18\n",
      "3       2025-02-06 13:13:23\n",
      "4       2025-02-06 13:13:28\n",
      "                ...        \n",
      "30190   2025-02-06 21:35:58\n",
      "30191   2025-02-06 21:36:03\n",
      "30192   2025-02-06 21:36:08\n",
      "30193   2025-02-06 21:36:13\n",
      "30194   2025-02-06 21:36:18\n",
      "Name: timestamp, Length: 30195, dtype: datetime64[ns]\n",
      "0       2025-02-05 09:44:46\n",
      "0       2025-02-04 15:41:24\n",
      "1       2025-02-05 09:44:51\n",
      "1       2025-02-04 15:41:29\n",
      "2       2025-02-05 09:44:56\n",
      "                ...        \n",
      "19108   2025-02-06 12:43:07\n",
      "19109   2025-02-06 12:43:12\n",
      "19110   2025-02-06 12:43:17\n",
      "19111   2025-02-06 12:43:22\n",
      "19112   2025-02-06 12:43:27\n",
      "Name: timestamp, Length: 31893, dtype: datetime64[ns]\n",
      "2025-02-04 15:41:24\n"
     ]
    }
   ],
   "execution_count": 30
  },
  {
   "metadata": {
    "ExecuteTime": {
     "end_time": "2025-03-27T11:59:01.346771Z",
     "start_time": "2025-03-27T11:59:01.169333Z"
    }
   },
   "cell_type": "code",
   "source": [
    "merged_df = pd.merge_asof(\n",
    "    df.sort_values(by=\"timestamp\"),\n",
    "    hpa_df.sort_values(by=\"timestamp\"),\n",
    "    on=\"timestamp\",\n",
    "    direction=\"nearest\",\n",
    "    tolerance=pd.Timedelta('5s'),\n",
    "    suffixes=('_df1', '_df2')\n",
    ")\n",
    "merged_df\n",
    "df[\"target\"] = merged_df[\"replicas-worker\"]\n",
    "df.plot(x=\"timestamp\", y=\"target\")\n",
    "df[\"target\"]"
   ],
   "id": "3dcbf4926918183e",
   "outputs": [
    {
     "data": {
      "text/plain": [
       "0       NaN\n",
       "1       NaN\n",
       "2       NaN\n",
       "3       NaN\n",
       "4       NaN\n",
       "         ..\n",
       "30190   NaN\n",
       "30191   NaN\n",
       "30192   NaN\n",
       "30193   NaN\n",
       "30194   NaN\n",
       "Name: target, Length: 30195, dtype: float64"
      ]
     },
     "execution_count": 31,
     "metadata": {},
     "output_type": "execute_result"
    },
    {
     "data": {
      "text/plain": [
       "<Figure size 640x480 with 1 Axes>"
      ],
      "image/png": "[encoded data removed]"
     },
     "metadata": {},
     "output_type": "display_data"
    }
   ],
   "execution_count": 31
  },
  {
   "metadata": {
    "ExecuteTime": {
     "end_time": "2025-03-27T11:59:01.392704Z",
     "start_time": "2025-03-27T11:59:01.390612Z"
    }
   },
   "cell_type": "code",
   "source": "a = df[\"target\"]\n",
   "id": "6e8716c705e21944",
   "outputs": [],
   "execution_count": 32
  },
  {
   "metadata": {
    "ExecuteTime": {
     "end_time": "2025-03-27T11:59:01.437369Z",
     "start_time": "2025-03-27T11:59:01.435544Z"
    }
   },
   "cell_type": "code",
   "source": "",
   "id": "6d893a7859ea7dff",
   "outputs": [],
   "execution_count": null
  }
 ],
 "metadata": {
  "kernelspec": {
   "display_name": "Python 3",
   "language": "python",
   "name": "python3"
  },
  "language_info": {
   "codemirror_mode": {
    "name": "ipython",
    "version": 2
   },
   "file_extension": ".py",
   "mimetype": "text/x-python",
   "name": "python",
   "nbconvert_exporter": "python",
   "pygments_lexer": "ipython2",
   "version": "2.7.6"
  }
 },
 "nbformat": 4,
 "nbformat_minor": 5
}
